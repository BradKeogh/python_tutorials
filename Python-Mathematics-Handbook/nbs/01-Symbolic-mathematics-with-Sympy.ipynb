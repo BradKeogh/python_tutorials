{
 "cells": [
  {
   "cell_type": "markdown",
   "metadata": {},
   "source": [
    "# Symbolic mathematics with Sympy\n",
    "\n",
    "[Sympy](http://www.sympy.org/en/index.html) is described as a:\n",
    "\n",
    "> \"... Python library for symbolic mathematics.\"\n",
    "\n",
    "This means it can be used to:\n",
    "\n",
    "- Manipulate symbolic expressions;\n",
    "- Solve symbolic equations;\n",
    "- Carry out symbolic Calculus;\n",
    "- Plot symbolic function.\n",
    "\n",
    "It has other capabilities that we will not go in to in this handbook. But you can read more about it here: http://www.sympy.org/en/index.html\n",
    "\n",
    "## Manipulating symbolic expressions\n",
    "\n",
    "Before we can start using the library to manipulate expressions, we need to import it."
   ]
  },
  {
   "cell_type": "code",
   "execution_count": 1,
   "metadata": {
    "collapsed": true
   },
   "outputs": [],
   "source": [
    "import sympy as sym"
   ]
  },
  {
   "cell_type": "markdown",
   "metadata": {},
   "source": [
    "The above imports the library and gives us access to it's commands using the shortand `sym` which is conventially used.\n",
    "\n",
    "If we wanted to get Python to check that $x - x = 0$ we would get an error if we did not tell Python what $x$ was:"
   ]
  },
  {
   "cell_type": "code",
   "execution_count": 2,
   "metadata": {
    "collapsed": false
   },
   "outputs": [
    {
     "ename": "NameError",
     "evalue": "name 'x' is not defined",
     "output_type": "error",
     "traceback": [
      "\u001b[0;31m---------------------------------------------------------------------------\u001b[0m",
      "\u001b[0;31mNameError\u001b[0m                                 Traceback (most recent call last)",
      "\u001b[0;32m<ipython-input-2-e2d9e13b7cb9>\u001b[0m in \u001b[0;36m<module>\u001b[0;34m()\u001b[0m\n\u001b[0;32m----> 1\u001b[0;31m \u001b[0mx\u001b[0m \u001b[0;34m+\u001b[0m \u001b[0mx\u001b[0m\u001b[0;34m\u001b[0m\u001b[0m\n\u001b[0m",
      "\u001b[0;31mNameError\u001b[0m: name 'x' is not defined"
     ]
    }
   ],
   "source": [
    "x - x"
   ]
  },
  {
   "cell_type": "markdown",
   "metadata": {},
   "source": [
    "This is where Sympy comes in, we can tell Python to create $x$ as a symbolic variable:"
   ]
  },
  {
   "cell_type": "code",
   "execution_count": 3,
   "metadata": {
    "collapsed": true
   },
   "outputs": [],
   "source": [
    "x = sym.symbols('x')"
   ]
  },
  {
   "cell_type": "markdown",
   "metadata": {},
   "source": [
    "Now we can calculate $x - x$:"
   ]
  },
  {
   "cell_type": "code",
   "execution_count": 4,
   "metadata": {
    "collapsed": false
   },
   "outputs": [
    {
     "data": {
      "text/plain": [
       "0"
      ]
     },
     "execution_count": 4,
     "metadata": {},
     "output_type": "execute_result"
    }
   ],
   "source": [
    "x - x"
   ]
  },
  {
   "cell_type": "markdown",
   "metadata": {},
   "source": [
    "We can create and manipulate expressions in Sympy. Let us for example verify:\n",
    "\n",
    "$$(a + b) ^ 2 = a ^ 2 + 2ab + b ^2$$\n",
    "\n",
    "First, we create the symbolic variables $a, b$:"
   ]
  },
  {
   "cell_type": "code",
   "execution_count": 5,
   "metadata": {
    "collapsed": true
   },
   "outputs": [],
   "source": [
    "a, b = sym.symbols('a, b')"
   ]
  },
  {
   "cell_type": "markdown",
   "metadata": {},
   "source": [
    "Now let's create our expression:"
   ]
  },
  {
   "cell_type": "code",
   "execution_count": 7,
   "metadata": {
    "collapsed": false
   },
   "outputs": [
    {
     "data": {
      "text/plain": [
       "(a + b)**2"
      ]
     },
     "execution_count": 7,
     "metadata": {},
     "output_type": "execute_result"
    }
   ],
   "source": [
    "expr = (a + b) ** 2 \n",
    "expr"
   ]
  },
  {
   "cell_type": "markdown",
   "metadata": {},
   "source": [
    "**Note** we can get Sympy to use LaTeX so that the output looks nice in a notebook:"
   ]
  },
  {
   "cell_type": "code",
   "execution_count": 8,
   "metadata": {
    "collapsed": true
   },
   "outputs": [],
   "source": [
    "sym.init_printing()"
   ]
  },
  {
   "cell_type": "code",
   "execution_count": 9,
   "metadata": {
    "collapsed": false
   },
   "outputs": [
    {
     "data": {
      "image/png": "[encoded data removed]",
      "text/latex": [
       "$$\\left(a + b\\right)^{2}$$"
      ],
      "text/plain": [
       "       2\n",
       "(a + b) "
      ]
     },
     "execution_count": 9,
     "metadata": {},
     "output_type": "execute_result"
    }
   ],
   "source": [
    "expr"
   ]
  },
  {
   "cell_type": "markdown",
   "metadata": {},
   "source": [
    "Let us expand our expression:"
   ]
  },
  {
   "cell_type": "code",
   "execution_count": 10,
   "metadata": {
    "collapsed": false
   },
   "outputs": [
    {
     "data": {
      "image/png": "[encoded data removed]",
      "text/latex": [
       "$$a^{2} + 2 a b + b^{2}$$"
      ],
      "text/plain": [
       " 2            2\n",
       "a  + 2⋅a⋅b + b "
      ]
     },
     "execution_count": 10,
     "metadata": {},
     "output_type": "execute_result"
    }
   ],
   "source": [
    "expr.expand()"
   ]
  },
  {
   "cell_type": "markdown",
   "metadata": {},
   "source": [
    "Note that we can also get Sympy to produce the LaTeX code for future use:"
   ]
  },
  {
   "cell_type": "code",
   "execution_count": 11,
   "metadata": {
    "collapsed": false
   },
   "outputs": [
    {
     "data": {
      "text/plain": [
       "'a^{2} + 2 a b + b^{2}'"
      ]
     },
     "execution_count": 11,
     "metadata": {},
     "output_type": "execute_result"
    }
   ],
   "source": [
    "sym.latex(expr.expand())"
   ]
  },
  {
   "cell_type": "markdown",
   "metadata": {},
   "source": [
    "---\n",
    "**EXERCISE** Use Sympy to verify the following expressions:\n",
    "\n",
    "- $(a - b) ^ 2 = a ^ 2 - 2 a b + b^2$\n",
    "- $a ^ 2 - b ^ 2 = (a - b) (a + b)$ (instead of using `expand`, try `factor`)"
   ]
  },
  {
   "cell_type": "markdown",
   "metadata": {},
   "source": [
    "## Solving symbolic equations"
   ]
  },
  {
   "cell_type": "markdown",
   "metadata": {},
   "source": [
    "We can use Sympy to solve symbolic expression. For example let's find the solution in $x$ of the quadratic equation:\n",
    "\n",
    "$$a x ^ 2 + b x + c = 0$$"
   ]
  },
  {
   "cell_type": "code",
   "execution_count": 14,
   "metadata": {
    "collapsed": true
   },
   "outputs": [],
   "source": [
    "# We only really need to define `c` but doing them all again.\n",
    "a, b, c, x = sym.symbols('a, b, c, x')  "
   ]
  },
  {
   "cell_type": "markdown",
   "metadata": {},
   "source": [
    "The Sympy command for solving equations is `solveset`. The first argument is an expression for which the root will be found. The second argument is the value that we are solving for."
   ]
  },
  {
   "cell_type": "code",
   "execution_count": 15,
   "metadata": {
    "collapsed": false
   },
   "outputs": [
    {
     "data": {
      "image/png": "[encoded data removed]",
      "text/latex": [
       "$$\\left\\{- \\frac{b}{2 a} - \\frac{1}{2 a} \\sqrt{- 4 a c + b^{2}}, - \\frac{b}{2 a} + \\frac{1}{2 a} \\sqrt{- 4 a c + b^{2}}\\right\\}$$"
      ],
      "text/plain": [
       "⎧           _____________             _____________⎫\n",
       "⎪          ╱           2             ╱           2 ⎪\n",
       "⎨   b    ╲╱  -4⋅a⋅c + b       b    ╲╱  -4⋅a⋅c + b  ⎬\n",
       "⎪- ─── - ────────────────, - ─── + ────────────────⎪\n",
       "⎩  2⋅a         2⋅a           2⋅a         2⋅a       ⎭"
      ]
     },
     "execution_count": 15,
     "metadata": {},
     "output_type": "execute_result"
    }
   ],
   "source": [
    "sym.solveset(a * x ** 2 + b * x + c, x)"
   ]
  },
  {
   "cell_type": "markdown",
   "metadata": {},
   "source": [
    "---\n",
    "**EXERCISE** Use Sympy to find the solutions to the generic cubic equation:\n",
    "\n",
    "$$a x ^ 3 + b x ^ 2 + c  x + d = 0$$\n",
    "\n",
    "---"
   ]
  },
  {
   "cell_type": "markdown",
   "metadata": {},
   "source": [
    "It is possible to pass more arguments to `solveset` for example to constrain the solution space. Let us see what the solution of the following is in $\\mathbb{R}$:\n",
    "\n",
    "$$x^2=-1$$"
   ]
  },
  {
   "cell_type": "code",
   "execution_count": 20,
   "metadata": {
    "collapsed": false
   },
   "outputs": [
    {
     "data": {
      "image/png": "[encoded data removed]",
      "text/latex": [
       "$$\\emptyset$$"
      ],
      "text/plain": [
       "∅"
      ]
     },
     "execution_count": 20,
     "metadata": {},
     "output_type": "execute_result"
    }
   ],
   "source": [
    "sym.solveset(x ** 2 + 1, x, domain=sym.S.Reals)"
   ]
  },
  {
   "cell_type": "markdown",
   "metadata": {},
   "source": [
    "---\n",
    "**EXERCISE** Use Sympy to find the solutions to the following equations:\n",
    "\n",
    "- $x ^ 2 == 2$ in $\\mathbb{N}$;\n",
    "- $x ^ 3 + 2 x = 0$ in $\\mathbb{R}$.\n",
    "\n",
    "---"
   ]
  },
  {
   "cell_type": "markdown",
   "metadata": {},
   "source": [
    "## Symbolic calculus\n",
    "\n",
    "We can use Sympy to compute limits. Let us calculate:\n",
    "\n",
    "$$\\lim_{x\\to 0^+}\\frac{1}{x}$$"
   ]
  },
  {
   "cell_type": "code",
   "execution_count": 68,
   "metadata": {
    "collapsed": false
   },
   "outputs": [
    {
     "data": {
      "image/png": "[encoded data removed]",
      "text/latex": [
       "$$\\infty$$"
      ],
      "text/plain": [
       "∞"
      ]
     },
     "execution_count": 68,
     "metadata": {},
     "output_type": "execute_result"
    }
   ],
   "source": [
    "sym.limit(1/x, x, 0, dir=\"+\")"
   ]
  },
  {
   "cell_type": "markdown",
   "metadata": {},
   "source": [
    "---\n",
    "**EXERCISE** Compute the following limits:\n",
    "\n",
    "1. $\\lim_{x\\to 0^-}\\frac{1}{x}$\n",
    "2.  $\\lim_{x\\to 0}\\frac{1}{x^2}$\n",
    "\n",
    "---"
   ]
  },
  {
   "cell_type": "markdown",
   "metadata": {},
   "source": [
    "We can use also Sympy to differentiate and integrate. Let us experiment with differentiating the following expression:\n",
    "\n",
    "$$x ^ 2 - \\cos(x)$$"
   ]
  },
  {
   "cell_type": "code",
   "execution_count": 48,
   "metadata": {
    "collapsed": false
   },
   "outputs": [
    {
     "data": {
      "image/png": "[encoded data removed]",
      "text/latex": [
       "$$2 x + \\sin{\\left (x \\right )}$$"
      ],
      "text/plain": [
       "2⋅x + sin(x)"
      ]
     },
     "execution_count": 48,
     "metadata": {},
     "output_type": "execute_result"
    }
   ],
   "source": [
    "sym.diff(x ** 2 - sym.cos(x), x)"
   ]
  },
  {
   "cell_type": "markdown",
   "metadata": {},
   "source": [
    "Similarly we can integrate:"
   ]
  },
  {
   "cell_type": "code",
   "execution_count": 49,
   "metadata": {
    "collapsed": false
   },
   "outputs": [
    {
     "data": {
      "image/png": "[encoded data removed]",
      "text/latex": [
       "$$\\frac{x^{3}}{3} - \\sin{\\left (x \\right )}$$"
      ],
      "text/plain": [
       " 3         \n",
       "x          \n",
       "── - sin(x)\n",
       "3          "
      ]
     },
     "execution_count": 49,
     "metadata": {},
     "output_type": "execute_result"
    }
   ],
   "source": [
    "sym.integrate(x ** 2 - sym.cos(x), x)"
   ]
  },
  {
   "cell_type": "markdown",
   "metadata": {},
   "source": [
    "We can also carry out definite integrals:"
   ]
  },
  {
   "cell_type": "code",
   "execution_count": 50,
   "metadata": {
    "collapsed": false
   },
   "outputs": [
    {
     "data": {
      "image/png": "[encoded data removed]",
      "text/latex": [
       "$$- \\sin{\\left (5 \\right )} + \\frac{125}{3}$$"
      ],
      "text/plain": [
       "-sin(5) + 125/3"
      ]
     },
     "execution_count": 50,
     "metadata": {},
     "output_type": "execute_result"
    }
   ],
   "source": [
    "sym.integrate(x ** 2 - sym.cos(x), (x, 0, 5))"
   ]
  },
  {
   "cell_type": "markdown",
   "metadata": {},
   "source": [
    "---\n",
    "\n",
    "**EXERCISE** Use Sympy to calculate the following:\n",
    "\n",
    "1. $\\frac{d\\sin(x ^2)}{dx}$\n",
    "2. $\\frac{d(x ^2 + xy - \\ln(y))}{dy}$\n",
    "3. $\\int e^x \\cos(x)\\;dx$\n",
    "4. $\\int_0^5 e^{2x}\\;dx$"
   ]
  },
  {
   "cell_type": "markdown",
   "metadata": {},
   "source": [
    "## Plotting with Sympy\n",
    "\n",
    "Finally Sympy can be used to plot functions. Note that this makes use of another Python library called [matplotlib](http://matplotlib.org/). Whilst Sympy allows us to not directly need to make use of matplotlib it could be worth learning to use as it's a very powerful and versatile library.\n",
    "\n",
    "Before plotting in Jupyter we need to run a command to tell it to display the plots directly in the notebook:"
   ]
  },
  {
   "cell_type": "code",
   "execution_count": 60,
   "metadata": {
    "collapsed": true
   },
   "outputs": [],
   "source": [
    "%matplotlib inline"
   ]
  },
  {
   "cell_type": "markdown",
   "metadata": {},
   "source": [
    "Let us plot $x^2$:"
   ]
  },
  {
   "cell_type": "code",
   "execution_count": 63,
   "metadata": {
    "collapsed": false
   },
   "outputs": [
    {
     "data": {
      "image/png": "[encoded data removed]",
      "text/plain": [
       "<matplotlib.figure.Figure at 0x7fb87f5cf438>"
      ]
     },
     "metadata": {},
     "output_type": "display_data"
    }
   ],
   "source": [
    "expr = x ** 2\n",
    "p = sym.plot(expr);"
   ]
  },
  {
   "cell_type": "markdown",
   "metadata": {},
   "source": [
    "We can directly save that plot to a file if we wish to:"
   ]
  },
  {
   "cell_type": "code",
   "execution_count": 73,
   "metadata": {
    "collapsed": false
   },
   "outputs": [
    {
     "data": {
      "image/png": "[encoded data removed]",
      "text/plain": [
       "<matplotlib.figure.Figure at 0x7fb87f45b748>"
      ]
     },
     "metadata": {},
     "output_type": "display_data"
    }
   ],
   "source": [
    "p.save(\"x_squared.pdf\");"
   ]
  },
  {
   "cell_type": "markdown",
   "metadata": {},
   "source": [
    "---\n",
    "**EXERCISE** Plot the following functions:\n",
    "\n",
    "- $y=x + cos(x)$\n",
    "- $y=x ^ 2 - e^x$ (you might find `ylim` helpful as an argument)\n",
    "\n",
    "Experiment with saving your plots to a file.\n",
    "\n",
    "---\n",
    "\n",
    "## Summary\n",
    "\n",
    "This section has discussed using Sympy to:\n",
    "\n",
    "- Manipulate symbolic expressions;\n",
    "- Calculate limits, derivates and integrals;\n",
    "- Plot a symbolic expression.\n",
    "    \n",
    "This just touches the surface of what Sympy can do.\n",
    "\n",
    "Let us move on to using [Numpy](02 - Linear algebra with Numpy.ipynb) to do Linear Algebra."
   ]
  }
 ],
 "metadata": {
  "anaconda-cloud": {},
  "kernelspec": {
   "display_name": "Python 3",
   "language": "python",
   "name": "python3"
  },
  "language_info": {
   "codemirror_mode": {
    "name": "ipython",
    "version": 3
   },
   "file_extension": ".py",
   "mimetype": "text/x-python",
   "name": "python",
   "nbconvert_exporter": "python",
   "pygments_lexer": "ipython3",
   "version": "3.5.1"
  }
 },
 "nbformat": 4,
 "nbformat_minor": 1
}
